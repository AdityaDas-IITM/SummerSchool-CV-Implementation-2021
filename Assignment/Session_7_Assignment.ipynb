{
  "nbformat": 4,
  "nbformat_minor": 0,
  "metadata": {
    "colab": {
      "name": "Session-7_Assignment.ipynb",
      "provenance": [],
      "collapsed_sections": [],
      "include_colab_link": true
    },
    "kernelspec": {
      "name": "python3",
      "display_name": "Python 3"
    },
    "language_info": {
      "name": "python"
    }
  },
  "cells": [
    {
      "cell_type": "markdown",
      "metadata": {
        "id": "view-in-github",
        "colab_type": "text"
      },
      "source": [
        "<a href=\"https://colab.research.google.com/github/AdityaDas-IITM/SummerSchool-CV-Implementation-2021/blob/TransferLearning/Assignment/Session_7_Assignment.ipynb\" target=\"_parent\"><img src=\"https://colab.research.google.com/assets/colab-badge.svg\" alt=\"Open In Colab\"/></a>"
      ]
    },
    {
      "cell_type": "markdown",
      "metadata": {
        "id": "diyGYvVzkzVq"
      },
      "source": [
        "#TASK 1\n",
        "\n",
        "1.   PyTorch provides two data primitives: `torch.utils.data.DataLoader` and `torch.utils.data.Dataset` that allow you to use pre-loaded datasets as well as your own data. Use the `torchvision.datasets` to import preloaded Dataset [`CIFAR`](https://pytorch.org/vision/stable/datasets.html#cifar) to train and then finetune the ResNet18 model."
      ]
    },
    {
      "cell_type": "code",
      "metadata": {
        "id": "XJgrC7WpnGIf"
      },
      "source": [
        "#Loading in Resnet18 pre-trained Model\n",
        "\n",
        "''' Enter your code here''' \n",
        "\n",
        "#You can use ```dir(models)``` to see various models available for Transfer Learning"
      ],
      "execution_count": null,
      "outputs": []
    },
    {
      "cell_type": "code",
      "metadata": {
        "id": "rjzwC2bQn2gb"
      },
      "source": [
        "#Freeze the model weights\n",
        "'''Enter your code here'''"
      ],
      "execution_count": null,
      "outputs": []
    },
    {
      "cell_type": "code",
      "metadata": {
        "id": "qSoIrAU6n76g"
      },
      "source": [
        "#Add the fully connected layer\n",
        "#Here replace num_classes with number of classes you are classifying \n",
        "\n",
        "#Check model summary once to ensure the changes you made"
      ],
      "execution_count": null,
      "outputs": []
    },
    {
      "cell_type": "code",
      "metadata": {
        "id": "DHMBSI5sodWR"
      },
      "source": [
        "#Define your transformations to be applied on the images here\n",
        "from torchvision import transforms\n",
        "train_transforms = transforms.Compose(\n",
        "    \n",
        "\n",
        "'''your code here'''\n",
        "\n",
        "\n",
        "\n",
        ")\n",
        "\n",
        "val_transforms = transforms.Compose(\n",
        "    \n",
        "\n",
        "'''your code here'''\n",
        "\n",
        "\n",
        ")"
      ],
      "execution_count": null,
      "outputs": []
    },
    {
      "cell_type": "code",
      "metadata": {
        "id": "P4yH2jVupCQs"
      },
      "source": [
        "#Import the CIFAR apply the transformations you created above\n",
        "#You can access the link given in question statement to check syntax for importing fakedata dataset\n",
        "\n",
        "'''your code here'''\n",
        "\n",
        "#Remember to split the dataset into train_dataset and val_dataset"
      ],
      "execution_count": null,
      "outputs": []
    },
    {
      "cell_type": "code",
      "metadata": {
        "id": "bOaEQtsEptTl"
      },
      "source": [
        "#Create DataLoaders for you train and val Datasets\n",
        "'''your code here'''"
      ],
      "execution_count": null,
      "outputs": []
    },
    {
      "cell_type": "code",
      "metadata": {
        "id": "4QlptjXGqcut"
      },
      "source": [
        "'''Define your train function here\n",
        "you may exclude the timer and scheduler'''"
      ],
      "execution_count": null,
      "outputs": []
    },
    {
      "cell_type": "code",
      "metadata": {
        "id": "N4aijCH0qia8"
      },
      "source": [
        "'''define the criterion,optimizer and scheduler(if used) parameters here'''"
      ],
      "execution_count": null,
      "outputs": []
    },
    {
      "cell_type": "code",
      "metadata": {
        "id": "m5nnKkz7qyMd"
      },
      "source": [
        "'''run the model''' "
      ],
      "execution_count": null,
      "outputs": []
    },
    {
      "cell_type": "code",
      "metadata": {
        "id": "coejSsPbskK1"
      },
      "source": [
        "'''Unfreeze all the layers and finetune the model to increase accuracy as model gets updated for relevancy towards the dataset'''"
      ],
      "execution_count": null,
      "outputs": []
    },
    {
      "cell_type": "markdown",
      "metadata": {
        "id": "RQwGbJS7uw-I"
      },
      "source": [
        "#TASK 2"
      ]
    },
    {
      "cell_type": "code",
      "metadata": {
        "id": "BZBajf_zobS0"
      },
      "source": [
        "import random\n",
        "import numpy as np\n",
        "from google.colab.patches import cv2_imshow\n",
        "import cv2"
      ],
      "execution_count": null,
      "outputs": []
    },
    {
      "cell_type": "code",
      "metadata": {
        "colab": {
          "base_uri": "https://localhost:8080/",
          "height": 166
        },
        "id": "WyyrRJgsOE9Z",
        "outputId": "09e041b2-6ae7-448d-f708-baffccaa2504"
      },
      "source": [
        "# Load the datasets\n",
        "# reading CSV file\n",
        "data_iou = read_csv(\"iou_testcases.csv\")\n",
        "data_iou"
      ],
      "execution_count": null,
      "outputs": [
        {
          "output_type": "execute_result",
          "data": {
            "text/html": [
              "<div>\n",
              "<style scoped>\n",
              "    .dataframe tbody tr th:only-of-type {\n",
              "        vertical-align: middle;\n",
              "    }\n",
              "\n",
              "    .dataframe tbody tr th {\n",
              "        vertical-align: top;\n",
              "    }\n",
              "\n",
              "    .dataframe thead th {\n",
              "        text-align: right;\n",
              "    }\n",
              "</style>\n",
              "<table border=\"1\" class=\"dataframe\">\n",
              "  <thead>\n",
              "    <tr style=\"text-align: right;\">\n",
              "      <th></th>\n",
              "      <th>Test_case_number</th>\n",
              "      <th>Box_1</th>\n",
              "      <th>Box_2</th>\n",
              "    </tr>\n",
              "  </thead>\n",
              "  <tbody>\n",
              "    <tr>\n",
              "      <th>0</th>\n",
              "      <td>Test_case_1</td>\n",
              "      <td>[199, 422, 477, 474]</td>\n",
              "      <td>[31, 419, 204, 436]</td>\n",
              "    </tr>\n",
              "    <tr>\n",
              "      <th>1</th>\n",
              "      <td>Test_case_2</td>\n",
              "      <td>[345, 367, 449, 502]</td>\n",
              "      <td>[335, 333, 374, 452]</td>\n",
              "    </tr>\n",
              "    <tr>\n",
              "      <th>2</th>\n",
              "      <td>Test_case_3</td>\n",
              "      <td>[350, 147, 492, 20]</td>\n",
              "      <td>[462, 157, 478, 357]</td>\n",
              "    </tr>\n",
              "    <tr>\n",
              "      <th>3</th>\n",
              "      <td>Test_case_4</td>\n",
              "      <td>[215, 251, 446, 425]</td>\n",
              "      <td>[126, 463, 360, 510]</td>\n",
              "    </tr>\n",
              "  </tbody>\n",
              "</table>\n",
              "</div>"
            ],
            "text/plain": [
              "  Test_case_number                 Box_1                 Box_2\n",
              "0      Test_case_1  [199, 422, 477, 474]   [31, 419, 204, 436]\n",
              "1      Test_case_2  [345, 367, 449, 502]  [335, 333, 374, 452]\n",
              "2      Test_case_3   [350, 147, 492, 20]  [462, 157, 478, 357]\n",
              "3      Test_case_4  [215, 251, 446, 425]  [126, 463, 360, 510]"
            ]
          },
          "metadata": {
            "tags": []
          },
          "execution_count": 2
        }
      ]
    },
    {
      "cell_type": "code",
      "metadata": {
        "colab": {
          "base_uri": "https://localhost:8080/",
          "height": 166
        },
        "id": "KG6qWUBcAj2s",
        "outputId": "ad4bd32e-79cd-481f-f707-b340440d67ad"
      },
      "source": [
        "# Load the datasets\n",
        "# reading CSV file\n",
        "data_nms = read_csv(\"nms_testcases.csv\")\n",
        "data_nms"
      ],
      "execution_count": null,
      "outputs": [
        {
          "output_type": "execute_result",
          "data": {
            "text/html": [
              "<div>\n",
              "<style scoped>\n",
              "    .dataframe tbody tr th:only-of-type {\n",
              "        vertical-align: middle;\n",
              "    }\n",
              "\n",
              "    .dataframe tbody tr th {\n",
              "        vertical-align: top;\n",
              "    }\n",
              "\n",
              "    .dataframe thead th {\n",
              "        text-align: right;\n",
              "    }\n",
              "</style>\n",
              "<table border=\"1\" class=\"dataframe\">\n",
              "  <thead>\n",
              "    <tr style=\"text-align: right;\">\n",
              "      <th></th>\n",
              "      <th>Test_case_number</th>\n",
              "      <th>Box_1</th>\n",
              "      <th>Box_2</th>\n",
              "      <th>Box_3</th>\n",
              "      <th>Box_4</th>\n",
              "    </tr>\n",
              "  </thead>\n",
              "  <tbody>\n",
              "    <tr>\n",
              "      <th>0</th>\n",
              "      <td>Test_case_1</td>\n",
              "      <td>[200, 100, 300, 300, 0.95]</td>\n",
              "      <td>[220, 110, 320, 310, 0.85]</td>\n",
              "      <td>[180, 90, 280, 290, 0.85]</td>\n",
              "      <td>[210, 120, 310, 320, 0.65]</td>\n",
              "    </tr>\n",
              "    <tr>\n",
              "      <th>1</th>\n",
              "      <td>Test_case_2</td>\n",
              "      <td>[200, 100, 400, 200, 0.65]</td>\n",
              "      <td>[220, 110, 420, 210, 0.85]</td>\n",
              "      <td>[180, 90, 380, 190, 0.5]</td>\n",
              "      <td>[210, 120, 410, 220, 0.6]</td>\n",
              "    </tr>\n",
              "    <tr>\n",
              "      <th>2</th>\n",
              "      <td>Test_case_3</td>\n",
              "      <td>[100, 150, 330, 290, 0.68]</td>\n",
              "      <td>[90, 175, 320, 310, 0.9]</td>\n",
              "      <td>[350, 90, 450, 290, 0.85]</td>\n",
              "      <td>[340, 110, 440, 310, 0.75]</td>\n",
              "    </tr>\n",
              "    <tr>\n",
              "      <th>3</th>\n",
              "      <td>Test_case_4</td>\n",
              "      <td>[100, 100, 200, 300, 0.95]</td>\n",
              "      <td>[150, 110, 250, 310, 0.85]</td>\n",
              "      <td>[200, 90, 300, 290, 0.85]</td>\n",
              "      <td>[250, 120, 350, 320, 0.63]</td>\n",
              "    </tr>\n",
              "  </tbody>\n",
              "</table>\n",
              "</div>"
            ],
            "text/plain": [
              "  Test_case_number  ...                       Box_4\n",
              "0      Test_case_1  ...  [210, 120, 310, 320, 0.65]\n",
              "1      Test_case_2  ...   [210, 120, 410, 220, 0.6]\n",
              "2      Test_case_3  ...  [340, 110, 440, 310, 0.75]\n",
              "3      Test_case_4  ...  [250, 120, 350, 320, 0.63]\n",
              "\n",
              "[4 rows x 5 columns]"
            ]
          },
          "metadata": {
            "tags": []
          },
          "execution_count": 3
        }
      ]
    },
    {
      "cell_type": "code",
      "metadata": {
        "id": "b_bKlMttOEUa"
      },
      "source": [
        "# Convert the pandas dataframe into lists\n",
        "listOfdata = data_iou.to_numpy().tolist()\n",
        "\n",
        "#Create list of bounding box coordinates for each of the test cases:\n",
        "iou_test_case_1 = [ast.literal_eval(listOfdata[0][1]), ast.literal_eval(listOfdata[0][2])]\n",
        "iou_test_case_2 = [ast.literal_eval(listOfdata[1][1]), ast.literal_eval(listOfdata[1][2])]\n",
        "iou_test_case_3 = [ast.literal_eval(listOfdata[2][1]), ast.literal_eval(listOfdata[2][2])]\n",
        "iou_test_case_4 = [ast.literal_eval(listOfdata[0][1]), ast.literal_eval(listOfdata[3][2])]"
      ],
      "execution_count": null,
      "outputs": []
    },
    {
      "cell_type": "code",
      "metadata": {
        "id": "yk6289F-Be-o"
      },
      "source": [
        "# Convert the pandas dataframe into lists\n",
        "listOfDFRows = data_nms.to_numpy().tolist()\n",
        "\n",
        "#Create list of bounding box coordinates for each of the test cases:\n",
        "nms_test_case_1 = [ast.literal_eval(listOfDFRows[0][1]), ast.literal_eval(listOfDFRows[0][2]), ast.literal_eval(listOfDFRows[0][3]), ast.literal_eval(listOfDFRows[0][4])]\n",
        "nms_test_case_2 = [ast.literal_eval(listOfDFRows[1][1]), ast.literal_eval(listOfDFRows[1][2]), ast.literal_eval(listOfDFRows[1][3]), ast.literal_eval(listOfDFRows[1][4])]\n",
        "nms_test_case_3 = [ast.literal_eval(listOfDFRows[2][1]), ast.literal_eval(listOfDFRows[2][2]), ast.literal_eval(listOfDFRows[2][3]), ast.literal_eval(listOfDFRows[2][4])]\n",
        "nms_test_case_4 = [ast.literal_eval(listOfDFRows[0][1]), ast.literal_eval(listOfDFRows[3][2]), ast.literal_eval(listOfDFRows[3][3]), ast.literal_eval(listOfDFRows[3][4])]"
      ],
      "execution_count": null,
      "outputs": []
    },
    {
      "cell_type": "code",
      "metadata": {
        "colab": {
          "base_uri": "https://localhost:8080/",
          "height": 529
        },
        "id": "JO7w7X1zPQ-t",
        "outputId": "f95a8eae-1d48-4545-ebec-f807ace68369"
      },
      "source": [
        "# Visualize the boxes for one of the test cases\n",
        "img = np.zeros([512,512,3] ,dtype = np.uint8)\n",
        "box1, box2= iou_test_case_1[0], iou_test_case_1[1]\n",
        "img2 = cv2.rectangle(img, (box1[0], box1[1]), (box1[2], box1[3]) , color = (0,255,0))#green\n",
        "img2 = cv2.rectangle(img, (box2[0], box2[1]), (box2[2], box2[3]) , color = (0,0,255))#red\n",
        "\n",
        "cv2_imshow(img2)"
      ],
      "execution_count": null,
      "outputs": [
        {
          "output_type": "display_data",
          "data": {
            "image/png": "[encoded data removed]",
            "text/plain": [
              "<PIL.Image.Image image mode=RGB size=512x512 at 0x7F16E1214250>"
            ]
          },
          "metadata": {
            "tags": []
          }
        }
      ]
    },
    {
      "cell_type": "code",
      "metadata": {
        "colab": {
          "base_uri": "https://localhost:8080/",
          "height": 529
        },
        "id": "_hnlwOwAFuDQ",
        "outputId": "dda2e459-6df2-452b-9dde-f6673c8c74c8"
      },
      "source": [
        "# Visualize the boxes for one of the test cases\n",
        "img = np.zeros([512,512,3] ,dtype = np.uint8)\n",
        "box1, box2, box3, box4 = nms_test_case_1[0], nms_test_case_1[1], nms_test_case_1[2], nms_test_case_1[3]\n",
        "img2 = cv2.rectangle(img, (box1[0], box1[1]), (box1[2], box1[3]) , color = (0,255,0))\n",
        "img2 = cv2.rectangle(img, (box2[0], box2[1]), (box2[2], box2[3]) , color = (0,0,255))\n",
        "img2 = cv2.rectangle(img, (box3[0], box3[1]), (box3[2], box3[3]) , color = (255,0,0))\n",
        "img2 = cv2.rectangle(img, (box4[0], box4[1]), (box4[2], box4[3]) , color = (255,255,255)) \n",
        "cv2_imshow(img2)"
      ],
      "execution_count": null,
      "outputs": [
        {
          "output_type": "display_data",
          "data": {
            "image/png": "[encoded data removed]",
            "text/plain": [
              "<PIL.Image.Image image mode=RGB size=512x512 at 0x7F16E11A5E50>"
            ]
          },
          "metadata": {
            "tags": []
          }
        }
      ]
    },
    {
      "cell_type": "code",
      "metadata": {
        "id": "p-nExADWZfck"
      },
      "source": [
        "'''\n",
        "Exercise: Implement iou(). Some hints:\n",
        "    In this exercise only, we define a box using its two corners (upper left and\n",
        "     lower right): (x1, y1, x2, y2) rather than the midpoint and height/width.\n",
        "    To calculate the area of a rectangle you need to multiply its height \n",
        "    (y2 - y1) by its width (x2 - x1)\n",
        "    You'll also need to find the coordinates (xi1, yi1, xi2, yi2) of the \n",
        "    intersection of two boxes. \n",
        "'''\n",
        "def iou(box1, box2):\n",
        "    \"\"\"Implement the intersection over union (IoU) between box1 and box2\n",
        "    Arguments:\n",
        "    box1 -- first box, list object with coordinates (x1, y1, x2, y2)\n",
        "    box2 -- second box, list object with coordinates (x1, y1, x2, y2)\n",
        "    \"\"\"\n",
        "################################################################################\n",
        "# TODO: Replace \"None\" with the correct code/ logic to find IoU for the boxes. #\n",
        "# Remember to account for the case in which IoU is 0.                          #\n",
        "################################################################################\n",
        "# *****START OF YOUR CODE (DO NOT DELETE/MODIFY THIS LINE)*****\n",
        "    # Calculate the (y1, x1, y2, x2) coordinates of the intersection of box1   #\n",
        "    # and box2. Calculate its Area.                                            #\n",
        "    xi1 = None\n",
        "    yi1 = None\n",
        "    xi2 = None\n",
        "    yi2 = None\n",
        "    # Case in which they don't intersec --> max(,0)\n",
        "    inter_area = None\n",
        "\n",
        "    # Calculate the Union area by using Formula: Union(A,B) = A + B - Inter(A,B)\n",
        "    box1_area = None\n",
        "    box2_area = None\n",
        "    union_area = None\n",
        "\n",
        "    # compute the IoU\n",
        "    iou = None\n",
        "################################################################################\n",
        "#                              END OF YOUR CODE                                #\n",
        "################################################################################\n",
        "    return iou"
      ],
      "execution_count": null,
      "outputs": []
    },
    {
      "cell_type": "code",
      "metadata": {
        "id": "ZGwmWxFnPgaT"
      },
      "source": [
        "################################################################################\n",
        "# TODO: Replace \"None\" with the correct code/ logic to find IoU for the boxes. #\n",
        "# Perform iou on the test cases                                                #\n",
        "################################################################################\n",
        "iou_result_1 = None\n",
        "iou_result_2 = None\n",
        "iou_result_3 = None\n",
        "iou_result_4 = None\n",
        "################################################################################\n",
        "#                              END OF YOUR CODE                                #\n",
        "################################################################################"
      ],
      "execution_count": null,
      "outputs": []
    },
    {
      "cell_type": "code",
      "metadata": {
        "id": "mcOsKGRmP2GN"
      },
      "source": [
        "# Print out the test cases:\n",
        "print(\"IoU for 1st test case is: \", iou_result_1, \n",
        "      \"IoU for 2nd test case is: \", iou_result_2, \n",
        "      \"IoU for 3rd test case is: \", iou_result_3, \n",
        "      \"IoU for 4th test case is: \", iou_result_4)"
      ],
      "execution_count": null,
      "outputs": []
    },
    {
      "cell_type": "code",
      "metadata": {
        "id": "r45hrkRJekb_"
      },
      "source": [
        "'''\n",
        "Exercise: Implement nms(). Some hints:\n",
        "    In this functoin, we will be performing non max suppression to select \n",
        "    bounding boxes for an object.\n",
        "    We will be assuming there is only one class of objects. However, the code is\n",
        "    is not very different for multiple classes of objects. \n",
        "    \n",
        "    c_score represents the confidence score of particular bounding box.\n",
        "\n",
        "    Use the iou function defined earlier.\n",
        "\n",
        "    Remember the algorithm to perform nms:\n",
        "    Discard all bounding boxes with confidence score < c_score_threshold\n",
        "    While there are any remaining boxes:\n",
        "      Pick box with largest confidence, output that as prediction.\n",
        "      Discard any remaining boxes with IoU > iou_threshold with the output box. \n",
        "\n",
        "    0.6 is an arbitrary number- feel free to experiment with it.\n",
        "\n",
        "    Make use of list comprehenion\n",
        "'''\n",
        "def nms(bboxes,iou_threshold,c_score_threshold):\n",
        "  '''\n",
        "    Implement non max supression given a list of bounding boxes.\n",
        "    Arguments:\n",
        "    bboxes: list of lists- the inner lists contain 5 elements and are of the\n",
        "            following format: [x1, y1, x2, y2, c_score]\n",
        "    iou_threshold: The threshold above which bounding boxes with lower confidence\n",
        "                    score are removed.\n",
        "    c_score_threshold: The minimum value of c_score below which bounding boxes\n",
        "                       are removed.\n",
        "    ''' \n",
        "################################################################################\n",
        "# TODO: Replace \"None\" with the correct code/ logic to find IoU for the boxes. #\n",
        "# Remember to account for the case in which IoU is 0.                          #\n",
        "################################################################################\n",
        "# *****START OF YOUR CODE (DO NOT DELETE/MODIFY THIS LINE)*****\n",
        "\n",
        "  #Using list comprehension (or otherwise), select bounding boxes which have\n",
        "  # confidence score greater than c_score_threshold.\n",
        "  bboxes = None\n",
        "\n",
        "  #Sort the bounding boxes in decresing order of confidence score.\n",
        "  bboxes = None\n",
        "\n",
        "  #An empty list to store selected bounding boxes.\n",
        "  boxes_after_nms = []\n",
        "\n",
        "  #Loop through the bounding boxes\n",
        "  while bboxes:\n",
        "      #Select box with highest confidence score\n",
        "      chosen_box = None\n",
        "      #Using list comprehension (or otherwise), eliminate bounding boxes whose\n",
        "      #iou with \"chosen_box\" is greater than threshold.\n",
        "      bboxes = None\n",
        "      #Add the bbox with highest confidence score to the formerly created list.\n",
        "      boxes_after_nms.append(chosen_box)\n",
        "################################################################################\n",
        "#                              END OF YOUR CODE                                #\n",
        "################################################################################\n",
        "  return boxes_after_nms"
      ],
      "execution_count": null,
      "outputs": []
    },
    {
      "cell_type": "code",
      "metadata": {
        "id": "fyFjVHu9RMHW"
      },
      "source": [
        "################################################################################\n",
        "# TODO: Replace \"None\" with the correct code/ logic to find nms for the boxes. #\n",
        "# Perform nms on the test cases \n",
        "# Experiment with values for iou threshold and c_score threshold               #\n",
        "################################################################################\n",
        "nms_result_1 = None\n",
        "nms_result_2 = None\n",
        "nms_result_3 = None\n",
        "nms_result_4 = None\n",
        "################################################################################\n",
        "#                              END OF YOUR CODE                                #\n",
        "################################################################################"
      ],
      "execution_count": null,
      "outputs": []
    },
    {
      "cell_type": "code",
      "metadata": {
        "id": "FTet-ea9Jyh-"
      },
      "source": [
        "# Check the number of bounding boxes returned for eaach test case.\n",
        "print(\"Number of bounding boxes returned for 1st test case is: \", len(nms_result_1), \n",
        "      \"Number of bounding boxes returned for 2nd test case is: \", len(nms_result_2),\n",
        "      \"Number of bounding boxes returned for 3rd test case is: \", len(nms_result_3),\n",
        "      \"Number of bounding boxes returned for 4th test case is: \", len(nms_result_4))"
      ],
      "execution_count": null,
      "outputs": []
    },
    {
      "cell_type": "code",
      "metadata": {
        "id": "IQSVNBkqGs9f"
      },
      "source": [
        "# Depending on the number of bounding boxes, visualize the results. \n",
        "img = np.zeros([512,512,3] ,dtype = np.uint8)\n",
        "\n",
        "box1 = None\n",
        "img2 = cv2.rectangle(img, (box1[0], box1[1]), (box1[2], box1[3]) , color = (0,255,0))\n",
        "\n",
        "cv2_imshow(img2)"
      ],
      "execution_count": null,
      "outputs": []
    }
  ]
}